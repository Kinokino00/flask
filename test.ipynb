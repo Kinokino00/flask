{
 "cells": [
  {
   "cell_type": "code",
   "execution_count": 1,
   "metadata": {},
   "outputs": [],
   "source": [
    "import pandas as pd"
   ]
  },
  {
   "cell_type": "code",
   "execution_count": 2,
   "metadata": {},
   "outputs": [],
   "source": [
    "url='https://data.moenv.gov.tw/api/v2/aqx_p_02?api_key=e8dd42e6-9b8b-43f8-991e-b3dee723a52d&limit=1000&sort=datacreationdate%20desc&format=CSV'"
   ]
  },
  {
   "cell_type": "code",
   "execution_count": 3,
   "metadata": {},
   "outputs": [
    {
     "data": {
      "text/html": [
       "<div>\n",
       "<style scoped>\n",
       "    .dataframe tbody tr th:only-of-type {\n",
       "        vertical-align: middle;\n",
       "    }\n",
       "\n",
       "    .dataframe tbody tr th {\n",
       "        vertical-align: top;\n",
       "    }\n",
       "\n",
       "    .dataframe thead th {\n",
       "        text-align: right;\n",
       "    }\n",
       "</style>\n",
       "<table border=\"1\" class=\"dataframe\">\n",
       "  <thead>\n",
       "    <tr style=\"text-align: right;\">\n",
       "      <th></th>\n",
       "      <th>site</th>\n",
       "      <th>county</th>\n",
       "      <th>pm25</th>\n",
       "      <th>datacreationdate</th>\n",
       "      <th>itemunit</th>\n",
       "    </tr>\n",
       "  </thead>\n",
       "  <tbody>\n",
       "    <tr>\n",
       "      <th>0</th>\n",
       "      <td>大城</td>\n",
       "      <td>彰化縣</td>\n",
       "      <td>16</td>\n",
       "      <td>2023-11-17 21:00</td>\n",
       "      <td>μg/m3</td>\n",
       "    </tr>\n",
       "    <tr>\n",
       "      <th>1</th>\n",
       "      <td>富貴角</td>\n",
       "      <td>新北市</td>\n",
       "      <td>19</td>\n",
       "      <td>2023-11-17 21:00</td>\n",
       "      <td>μg/m3</td>\n",
       "    </tr>\n",
       "    <tr>\n",
       "      <th>2</th>\n",
       "      <td>麥寮</td>\n",
       "      <td>雲林縣</td>\n",
       "      <td>22</td>\n",
       "      <td>2023-11-17 21:00</td>\n",
       "      <td>μg/m3</td>\n",
       "    </tr>\n",
       "    <tr>\n",
       "      <th>3</th>\n",
       "      <td>關山</td>\n",
       "      <td>臺東縣</td>\n",
       "      <td>13</td>\n",
       "      <td>2023-11-17 21:00</td>\n",
       "      <td>μg/m3</td>\n",
       "    </tr>\n",
       "    <tr>\n",
       "      <th>4</th>\n",
       "      <td>馬公</td>\n",
       "      <td>澎湖縣</td>\n",
       "      <td>12</td>\n",
       "      <td>2023-11-17 21:00</td>\n",
       "      <td>μg/m3</td>\n",
       "    </tr>\n",
       "    <tr>\n",
       "      <th>...</th>\n",
       "      <td>...</td>\n",
       "      <td>...</td>\n",
       "      <td>...</td>\n",
       "      <td>...</td>\n",
       "      <td>...</td>\n",
       "    </tr>\n",
       "    <tr>\n",
       "      <th>73</th>\n",
       "      <td>土城</td>\n",
       "      <td>新北市</td>\n",
       "      <td>25</td>\n",
       "      <td>2023-11-17 21:00</td>\n",
       "      <td>μg/m3</td>\n",
       "    </tr>\n",
       "    <tr>\n",
       "      <th>74</th>\n",
       "      <td>新店</td>\n",
       "      <td>新北市</td>\n",
       "      <td>18</td>\n",
       "      <td>2023-11-17 21:00</td>\n",
       "      <td>μg/m3</td>\n",
       "    </tr>\n",
       "    <tr>\n",
       "      <th>75</th>\n",
       "      <td>萬里</td>\n",
       "      <td>新北市</td>\n",
       "      <td>17</td>\n",
       "      <td>2023-11-17 21:00</td>\n",
       "      <td>μg/m3</td>\n",
       "    </tr>\n",
       "    <tr>\n",
       "      <th>76</th>\n",
       "      <td>汐止</td>\n",
       "      <td>新北市</td>\n",
       "      <td>23</td>\n",
       "      <td>2023-11-17 21:00</td>\n",
       "      <td>μg/m3</td>\n",
       "    </tr>\n",
       "    <tr>\n",
       "      <th>77</th>\n",
       "      <td>基隆</td>\n",
       "      <td>基隆市</td>\n",
       "      <td>19</td>\n",
       "      <td>2023-11-17 21:00</td>\n",
       "      <td>μg/m3</td>\n",
       "    </tr>\n",
       "  </tbody>\n",
       "</table>\n",
       "<p>78 rows × 5 columns</p>\n",
       "</div>"
      ],
      "text/plain": [
       "   site county  pm25  datacreationdate itemunit\n",
       "0    大城    彰化縣    16  2023-11-17 21:00    μg/m3\n",
       "1   富貴角    新北市    19  2023-11-17 21:00    μg/m3\n",
       "2    麥寮    雲林縣    22  2023-11-17 21:00    μg/m3\n",
       "3    關山    臺東縣    13  2023-11-17 21:00    μg/m3\n",
       "4    馬公    澎湖縣    12  2023-11-17 21:00    μg/m3\n",
       "..  ...    ...   ...               ...      ...\n",
       "73   土城    新北市    25  2023-11-17 21:00    μg/m3\n",
       "74   新店    新北市    18  2023-11-17 21:00    μg/m3\n",
       "75   萬里    新北市    17  2023-11-17 21:00    μg/m3\n",
       "76   汐止    新北市    23  2023-11-17 21:00    μg/m3\n",
       "77   基隆    基隆市    19  2023-11-17 21:00    μg/m3\n",
       "\n",
       "[78 rows x 5 columns]"
      ]
     },
     "execution_count": 3,
     "metadata": {},
     "output_type": "execute_result"
    }
   ],
   "source": [
    "df=pd.read_csv(url)\n",
    "df"
   ]
  },
  {
   "cell_type": "code",
   "execution_count": 4,
   "metadata": {},
   "outputs": [
    {
     "name": "stdout",
     "output_type": "stream",
     "text": [
      "<class 'pandas.core.frame.DataFrame'>\n",
      "RangeIndex: 78 entries, 0 to 77\n",
      "Data columns (total 5 columns):\n",
      " #   Column            Non-Null Count  Dtype \n",
      "---  ------            --------------  ----- \n",
      " 0   site              78 non-null     object\n",
      " 1   county            78 non-null     object\n",
      " 2   pm25              78 non-null     int64 \n",
      " 3   datacreationdate  78 non-null     object\n",
      " 4   itemunit          78 non-null     object\n",
      "dtypes: int64(1), object(4)\n",
      "memory usage: 3.2+ KB\n"
     ]
    }
   ],
   "source": [
    "df.info()"
   ]
  },
  {
   "cell_type": "code",
   "execution_count": 5,
   "metadata": {},
   "outputs": [
    {
     "data": {
      "text/html": [
       "<div>\n",
       "<style scoped>\n",
       "    .dataframe tbody tr th:only-of-type {\n",
       "        vertical-align: middle;\n",
       "    }\n",
       "\n",
       "    .dataframe tbody tr th {\n",
       "        vertical-align: top;\n",
       "    }\n",
       "\n",
       "    .dataframe thead th {\n",
       "        text-align: right;\n",
       "    }\n",
       "</style>\n",
       "<table border=\"1\" class=\"dataframe\">\n",
       "  <thead>\n",
       "    <tr style=\"text-align: right;\">\n",
       "      <th></th>\n",
       "      <th>site</th>\n",
       "      <th>county</th>\n",
       "      <th>pm25</th>\n",
       "      <th>datacreationdate</th>\n",
       "      <th>itemunit</th>\n",
       "    </tr>\n",
       "  </thead>\n",
       "  <tbody>\n",
       "    <tr>\n",
       "      <th>0</th>\n",
       "      <td>大城</td>\n",
       "      <td>彰化縣</td>\n",
       "      <td>16</td>\n",
       "      <td>2023-11-17 21:00</td>\n",
       "      <td>μg/m3</td>\n",
       "    </tr>\n",
       "    <tr>\n",
       "      <th>1</th>\n",
       "      <td>富貴角</td>\n",
       "      <td>新北市</td>\n",
       "      <td>19</td>\n",
       "      <td>2023-11-17 21:00</td>\n",
       "      <td>μg/m3</td>\n",
       "    </tr>\n",
       "    <tr>\n",
       "      <th>2</th>\n",
       "      <td>麥寮</td>\n",
       "      <td>雲林縣</td>\n",
       "      <td>22</td>\n",
       "      <td>2023-11-17 21:00</td>\n",
       "      <td>μg/m3</td>\n",
       "    </tr>\n",
       "    <tr>\n",
       "      <th>3</th>\n",
       "      <td>關山</td>\n",
       "      <td>臺東縣</td>\n",
       "      <td>13</td>\n",
       "      <td>2023-11-17 21:00</td>\n",
       "      <td>μg/m3</td>\n",
       "    </tr>\n",
       "    <tr>\n",
       "      <th>4</th>\n",
       "      <td>馬公</td>\n",
       "      <td>澎湖縣</td>\n",
       "      <td>12</td>\n",
       "      <td>2023-11-17 21:00</td>\n",
       "      <td>μg/m3</td>\n",
       "    </tr>\n",
       "    <tr>\n",
       "      <th>...</th>\n",
       "      <td>...</td>\n",
       "      <td>...</td>\n",
       "      <td>...</td>\n",
       "      <td>...</td>\n",
       "      <td>...</td>\n",
       "    </tr>\n",
       "    <tr>\n",
       "      <th>73</th>\n",
       "      <td>土城</td>\n",
       "      <td>新北市</td>\n",
       "      <td>25</td>\n",
       "      <td>2023-11-17 21:00</td>\n",
       "      <td>μg/m3</td>\n",
       "    </tr>\n",
       "    <tr>\n",
       "      <th>74</th>\n",
       "      <td>新店</td>\n",
       "      <td>新北市</td>\n",
       "      <td>18</td>\n",
       "      <td>2023-11-17 21:00</td>\n",
       "      <td>μg/m3</td>\n",
       "    </tr>\n",
       "    <tr>\n",
       "      <th>75</th>\n",
       "      <td>萬里</td>\n",
       "      <td>新北市</td>\n",
       "      <td>17</td>\n",
       "      <td>2023-11-17 21:00</td>\n",
       "      <td>μg/m3</td>\n",
       "    </tr>\n",
       "    <tr>\n",
       "      <th>76</th>\n",
       "      <td>汐止</td>\n",
       "      <td>新北市</td>\n",
       "      <td>23</td>\n",
       "      <td>2023-11-17 21:00</td>\n",
       "      <td>μg/m3</td>\n",
       "    </tr>\n",
       "    <tr>\n",
       "      <th>77</th>\n",
       "      <td>基隆</td>\n",
       "      <td>基隆市</td>\n",
       "      <td>19</td>\n",
       "      <td>2023-11-17 21:00</td>\n",
       "      <td>μg/m3</td>\n",
       "    </tr>\n",
       "  </tbody>\n",
       "</table>\n",
       "<p>78 rows × 5 columns</p>\n",
       "</div>"
      ],
      "text/plain": [
       "   site county  pm25  datacreationdate itemunit\n",
       "0    大城    彰化縣    16  2023-11-17 21:00    μg/m3\n",
       "1   富貴角    新北市    19  2023-11-17 21:00    μg/m3\n",
       "2    麥寮    雲林縣    22  2023-11-17 21:00    μg/m3\n",
       "3    關山    臺東縣    13  2023-11-17 21:00    μg/m3\n",
       "4    馬公    澎湖縣    12  2023-11-17 21:00    μg/m3\n",
       "..  ...    ...   ...               ...      ...\n",
       "73   土城    新北市    25  2023-11-17 21:00    μg/m3\n",
       "74   新店    新北市    18  2023-11-17 21:00    μg/m3\n",
       "75   萬里    新北市    17  2023-11-17 21:00    μg/m3\n",
       "76   汐止    新北市    23  2023-11-17 21:00    μg/m3\n",
       "77   基隆    基隆市    19  2023-11-17 21:00    μg/m3\n",
       "\n",
       "[78 rows x 5 columns]"
      ]
     },
     "execution_count": 5,
     "metadata": {},
     "output_type": "execute_result"
    }
   ],
   "source": [
    "df=df.dropna()\n",
    "df"
   ]
  },
  {
   "cell_type": "code",
   "execution_count": 6,
   "metadata": {},
   "outputs": [
    {
     "data": {
      "text/plain": [
       "array([9, '恆春'], dtype=object)"
      ]
     },
     "execution_count": 6,
     "metadata": {},
     "output_type": "execute_result"
    }
   ],
   "source": [
    "df.sort_values('pm25').iloc[0][['pm25','site']].values"
   ]
  },
  {
   "cell_type": "code",
   "execution_count": 7,
   "metadata": {},
   "outputs": [
    {
     "data": {
      "text/plain": [
       "array([34, '左營'], dtype=object)"
      ]
     },
     "execution_count": 7,
     "metadata": {},
     "output_type": "execute_result"
    }
   ],
   "source": [
    "df.sort_values('pm25').iloc[-1][['pm25','site']].values"
   ]
  },
  {
   "cell_type": "markdown",
   "metadata": {},
   "source": [
    "#### 六都平均值"
   ]
  },
  {
   "cell_type": "code",
   "execution_count": 10,
   "metadata": {},
   "outputs": [
    {
     "data": {
      "text/plain": [
       "{'南投縣',\n",
       " '嘉義市',\n",
       " '嘉義縣',\n",
       " '基隆市',\n",
       " '宜蘭縣',\n",
       " '屏東縣',\n",
       " '彰化縣',\n",
       " '新北市',\n",
       " '新竹市',\n",
       " '新竹縣',\n",
       " '桃園市',\n",
       " '澎湖縣',\n",
       " '臺中市',\n",
       " '臺北市',\n",
       " '臺南市',\n",
       " '臺東縣',\n",
       " '花蓮縣',\n",
       " '苗栗縣',\n",
       " '連江縣',\n",
       " '金門縣',\n",
       " '雲林縣',\n",
       " '高雄市'}"
      ]
     },
     "execution_count": 10,
     "metadata": {},
     "output_type": "execute_result"
    }
   ],
   "source": [
    "set(df['county'])"
   ]
  },
  {
   "cell_type": "code",
   "execution_count": 11,
   "metadata": {},
   "outputs": [
    {
     "data": {
      "text/plain": [
       "['新北市', '臺北市', '桃園市', '臺中市', '臺南市', '高雄市']"
      ]
     },
     "execution_count": 11,
     "metadata": {},
     "output_type": "execute_result"
    }
   ],
   "source": [
    "six_county=['新北市','臺北市','桃園市','臺中市','臺南市','高雄市']\n",
    "six_county"
   ]
  },
  {
   "cell_type": "code",
   "execution_count": 12,
   "metadata": {},
   "outputs": [
    {
     "data": {
      "text/plain": [
       "19.583333333333332"
      ]
     },
     "execution_count": 12,
     "metadata": {},
     "output_type": "execute_result"
    }
   ],
   "source": [
    "df.groupby('county').get_group('新北市')['pm25'].mean()"
   ]
  },
  {
   "cell_type": "code",
   "execution_count": 17,
   "metadata": {},
   "outputs": [
    {
     "name": "stdout",
     "output_type": "stream",
     "text": [
      "新北市\n",
      "19.583333333333332\n",
      "臺北市\n",
      "21.571428571428573\n",
      "桃園市\n",
      "23.0\n",
      "臺中市\n",
      "15.0\n",
      "臺南市\n",
      "22.5\n",
      "高雄市\n",
      "26.833333333333332\n"
     ]
    },
    {
     "data": {
      "text/plain": [
       "{'新北市': 19.58,\n",
       " '臺北市': 21.57,\n",
       " '桃園市': 23.0,\n",
       " '臺中市': 15.0,\n",
       " '臺南市': 22.5,\n",
       " '高雄市': 26.83}"
      ]
     },
     "execution_count": 17,
     "metadata": {},
     "output_type": "execute_result"
    }
   ],
   "source": [
    "six_data={}\n",
    "for county in six_county:\n",
    "    print(county)\n",
    "    print(df.groupby('county').get_group(county)['pm25'].mean())\n",
    "    six_data[county]=round(df.groupby('county').get_group(county)['pm25'].mean(),2)\n",
    "six_data"
   ]
  },
  {
   "cell_type": "markdown",
   "metadata": {},
   "source": [
    "### 單一縣市的PM2.5數據"
   ]
  },
  {
   "cell_type": "code",
   "execution_count": 23,
   "metadata": {
    "tags": []
   },
   "outputs": [
    {
     "data": {
      "text/plain": [
       "{'富貴角': 19,\n",
       " '永和': 20,\n",
       " '三重': 22,\n",
       " '淡水': 19,\n",
       " '林口': 18,\n",
       " '菜寮': 23,\n",
       " '新莊': 20,\n",
       " '板橋': 11,\n",
       " '土城': 25,\n",
       " '新店': 18,\n",
       " '萬里': 17,\n",
       " '汐止': 23}"
      ]
     },
     "execution_count": 23,
     "metadata": {},
     "output_type": "execute_result"
    }
   ],
   "source": [
    "df.groupby('county').get_group('新北市')[['site','pm25']].set_index('site').to_dict()['pm25']"
   ]
  },
  {
   "cell_type": "code",
   "execution_count": null,
   "metadata": {},
   "outputs": [],
   "source": []
  }
 ],
 "metadata": {
  "kernelspec": {
   "display_name": "Python 3",
   "language": "python",
   "name": "python3"
  },
  "language_info": {
   "codemirror_mode": {
    "name": "ipython",
    "version": 3
   },
   "file_extension": ".py",
   "mimetype": "text/x-python",
   "name": "python",
   "nbconvert_exporter": "python",
   "pygments_lexer": "ipython3",
   "version": "3.11.3"
  },
  "orig_nbformat": 4
 },
 "nbformat": 4,
 "nbformat_minor": 2
}
